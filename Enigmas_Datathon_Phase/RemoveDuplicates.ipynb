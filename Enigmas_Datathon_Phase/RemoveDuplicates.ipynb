{
  "nbformat": 4,
  "nbformat_minor": 0,
  "metadata": {
    "colab": {
      "provenance": []
    },
    "kernelspec": {
      "name": "python3",
      "display_name": "Python 3"
    },
    "language_info": {
      "name": "python"
    }
  },
  "cells": [
    {
      "cell_type": "code",
      "execution_count": null,
      "metadata": {
        "id": "SP_3Rm7_VQeh"
      },
      "outputs": [],
      "source": [
        "import os\n",
        "from PIL import Image\n",
        "import imagehash\n",
        "\n",
        "# Set the directory path where your photos are located\n",
        "photo_directory = '/content/drive/MyDrive/Photos/' #Path to images\n",
        "\n",
        "# Function to find and delete duplicate photos\n",
        "def find_and_delete_duplicates(directory):\n",
        "    image_hashes = {}\n",
        "    duplicates = []\n",
        "\n",
        "    for filename in os.listdir(directory):\n",
        "        if filename.lower().endswith(('.png', '.jpg', '.jpeg')):\n",
        "            image_path = os.path.join(directory, filename)\n",
        "            with Image.open(image_path) as img:\n",
        "                img_hash = str(imagehash.average_hash(img))\n",
        "\n",
        "                if img_hash in image_hashes:\n",
        "                    duplicates.append(image_path)\n",
        "                else:\n",
        "                    image_hashes[img_hash] = image_path\n",
        "\n",
        "    for duplicate in duplicates:\n",
        "        os.remove(duplicate)\n",
        "        print(f\"Deleted duplicate: {duplicate}\")\n",
        "\n",
        "# Call the function to find and delete duplicates\n",
        "find_and_delete_duplicates(photo_directory)"
      ]
    }
  ]
}